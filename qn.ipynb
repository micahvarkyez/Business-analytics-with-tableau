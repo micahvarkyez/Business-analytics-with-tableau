{
  "cells": [
    {
      "cell_type": "markdown",
      "metadata": {
        "id": "view-in-github",
        "colab_type": "text"
      },
      "source": [
        "<a href=\"https://colab.research.google.com/github/micahvarkyez/Business-analytics-with-tableau/blob/main/qn.ipynb\" target=\"_parent\"><img src=\"https://colab.research.google.com/assets/colab-badge.svg\" alt=\"Open In Colab\"/></a>"
      ]
    },
    {
      "cell_type": "code",
      "source": [
        "import numpy as np"
      ],
      "metadata": {
        "id": "i-qwMersJFyD"
      },
      "execution_count": 1,
      "outputs": []
    },
    {
      "cell_type": "code",
      "source": [
        "x = np.array([1,2,3,4,5,6,7,8,9,10,11,12]) \n",
        "y = np.array([168.75,164.56,147.06,166.33,166.76,164.67,148.22,132.22,133.52,126.08,118.68,101.18])"
      ],
      "metadata": {
        "id": "l3fUSizqJiRy"
      },
      "execution_count": 2,
      "outputs": []
    },
    {
      "cell_type": "code",
      "source": [
        "x_dash = np.mean(x)"
      ],
      "metadata": {
        "id": "CraYwq7lKfnR"
      },
      "execution_count": 3,
      "outputs": []
    },
    {
      "cell_type": "code",
      "source": [
        "x_dash\n"
      ],
      "metadata": {
        "id": "fPgvSh7-Knzp",
        "outputId": "e4d184c4-fbaa-4a68-f442-5ad1eca83e16",
        "colab": {
          "base_uri": "https://localhost:8080/"
        }
      },
      "execution_count": 4,
      "outputs": [
        {
          "output_type": "execute_result",
          "data": {
            "text/plain": [
              "6.5"
            ]
          },
          "metadata": {},
          "execution_count": 4
        }
      ]
    },
    {
      "cell_type": "code",
      "source": [
        "y_dash = np.mean(y)"
      ],
      "metadata": {
        "id": "iDvFlo9IKopw"
      },
      "execution_count": 5,
      "outputs": []
    },
    {
      "cell_type": "code",
      "source": [
        "y_dash"
      ],
      "metadata": {
        "id": "5MmLXAvWKwO3",
        "outputId": "d46e3ae4-79f5-4b2f-c19b-7d695aa0fe00",
        "colab": {
          "base_uri": "https://localhost:8080/"
        }
      },
      "execution_count": 6,
      "outputs": [
        {
          "output_type": "execute_result",
          "data": {
            "text/plain": [
              "144.83583333333334"
            ]
          },
          "metadata": {},
          "execution_count": 6
        }
      ]
    },
    {
      "cell_type": "code",
      "source": [
        "P = (x-x_dash) * (y-y_dash)"
      ],
      "metadata": {
        "id": "WJ_lSgYeK2Xo"
      },
      "execution_count": 7,
      "outputs": []
    },
    {
      "cell_type": "code",
      "source": [
        "num = sum(P)"
      ],
      "metadata": {
        "id": "Ghcj2fzNK243"
      },
      "execution_count": 8,
      "outputs": []
    },
    {
      "cell_type": "code",
      "source": [
        "num"
      ],
      "metadata": {
        "id": "t8FBZ8U0L03E",
        "outputId": "b9edc58f-9812-47df-c415-2b04ec5df30a",
        "colab": {
          "base_uri": "https://localhost:8080/"
        }
      },
      "execution_count": 9,
      "outputs": [
        {
          "output_type": "execute_result",
          "data": {
            "text/plain": [
              "-793.5849999999999"
            ]
          },
          "metadata": {},
          "execution_count": 9
        }
      ]
    },
    {
      "cell_type": "code",
      "source": [
        "Q = (x-x_dash)*(x-x_dash)"
      ],
      "metadata": {
        "id": "kSZEIlQBL2lD"
      },
      "execution_count": 10,
      "outputs": []
    },
    {
      "cell_type": "code",
      "source": [
        "den = sum(Q)"
      ],
      "metadata": {
        "id": "CarrcHlpMIKR"
      },
      "execution_count": 11,
      "outputs": []
    },
    {
      "cell_type": "code",
      "source": [
        "den"
      ],
      "metadata": {
        "id": "SZZI_e1IVele",
        "outputId": "95c395fd-81b6-4e1f-e1aa-625c086f1632",
        "colab": {
          "base_uri": "https://localhost:8080/"
        }
      },
      "execution_count": 21,
      "outputs": [
        {
          "output_type": "execute_result",
          "data": {
            "text/plain": [
              "143.0"
            ]
          },
          "metadata": {},
          "execution_count": 21
        }
      ]
    },
    {
      "cell_type": "code",
      "source": [
        "m= num/den"
      ],
      "metadata": {
        "id": "iD2PZmEQMK2J"
      },
      "execution_count": 12,
      "outputs": []
    },
    {
      "cell_type": "code",
      "source": [
        "m"
      ],
      "metadata": {
        "id": "DHR829MGMLjl",
        "outputId": "dc4d1089-0048-4094-adc9-64451e9d3c0c",
        "colab": {
          "base_uri": "https://localhost:8080/"
        }
      },
      "execution_count": 13,
      "outputs": [
        {
          "output_type": "execute_result",
          "data": {
            "text/plain": [
              "-5.549545454545454"
            ]
          },
          "metadata": {},
          "execution_count": 13
        }
      ]
    },
    {
      "cell_type": "code",
      "source": [
        "c=y_dash - m* x_dash\n"
      ],
      "metadata": {
        "id": "XZZ-xDWvMQrR"
      },
      "execution_count": 14,
      "outputs": []
    },
    {
      "cell_type": "code",
      "source": [
        "c"
      ],
      "metadata": {
        "id": "HUYyCa2TWmJ0",
        "outputId": "02f741ba-cf52-4cbc-f8e0-2f93d0602fc4",
        "colab": {
          "base_uri": "https://localhost:8080/"
        }
      },
      "execution_count": 22,
      "outputs": [
        {
          "output_type": "execute_result",
          "data": {
            "text/plain": [
              "180.9078787878788"
            ]
          },
          "metadata": {},
          "execution_count": 22
        }
      ]
    },
    {
      "cell_type": "code",
      "source": [
        "Ynew=m*x + c"
      ],
      "metadata": {
        "id": "nNJBmKT4M-XC"
      },
      "execution_count": 15,
      "outputs": []
    },
    {
      "cell_type": "code",
      "source": [
        "Ynew"
      ],
      "metadata": {
        "id": "rsAUxREkNATS",
        "outputId": "649a768c-16a2-41fe-871c-a69292df607e",
        "colab": {
          "base_uri": "https://localhost:8080/"
        }
      },
      "execution_count": 16,
      "outputs": [
        {
          "output_type": "execute_result",
          "data": {
            "text/plain": [
              "array([175.35833333, 169.80878788, 164.25924242, 158.70969697,\n",
              "       153.16015152, 147.61060606, 142.06106061, 136.51151515,\n",
              "       130.9619697 , 125.41242424, 119.86287879, 114.31333333])"
            ]
          },
          "metadata": {},
          "execution_count": 16
        }
      ]
    },
    {
      "cell_type": "code",
      "source": [
        "import matplotlib.pyplot as plt"
      ],
      "metadata": {
        "id": "z3O7S6BFNCL6"
      },
      "execution_count": 18,
      "outputs": []
    },
    {
      "cell_type": "code",
      "source": [
        "plt.scatter(x,y)"
      ],
      "metadata": {
        "id": "taX3-8iINGQK",
        "outputId": "20eb5a0a-0bde-430d-bc79-618a82e46daf",
        "colab": {
          "base_uri": "https://localhost:8080/",
          "height": 283
        }
      },
      "execution_count": 19,
      "outputs": [
        {
          "output_type": "execute_result",
          "data": {
            "text/plain": [
              "<matplotlib.collections.PathCollection at 0x7fdd3fde29d0>"
            ]
          },
          "metadata": {},
          "execution_count": 19
        },
        {
          "output_type": "display_data",
          "data": {
            "text/plain": [
              "<Figure size 432x288 with 1 Axes>"
            ],
            "image/png": "[encoded data removed]"
          },
          "metadata": {
            "needs_background": "light"
          }
        }
      ]
    },
    {
      "cell_type": "code",
      "source": [
        "plt.scatter(x,y)\n",
        "plt.plot(x,Ynew)"
      ],
      "metadata": {
        "id": "SKoU7A6WNJHi",
        "outputId": "c73c8049-2ebb-44c4-cd79-599984da36d7",
        "colab": {
          "base_uri": "https://localhost:8080/",
          "height": 283
        }
      },
      "execution_count": 20,
      "outputs": [
        {
          "output_type": "execute_result",
          "data": {
            "text/plain": [
              "[<matplotlib.lines.Line2D at 0x7fdd3f8991d0>]"
            ]
          },
          "metadata": {},
          "execution_count": 20
        },
        {
          "output_type": "display_data",
          "data": {
            "text/plain": [
              "<Figure size 432x288 with 1 Axes>"
            ],
            "image/png": "[encoded data removed]"
          },
          "metadata": {
            "needs_background": "light"
          }
        }
      ]
    },
    {
      "cell_type": "code",
      "source": [
        ""
      ],
      "metadata": {
        "id": "OBjB2BmdNOC6"
      },
      "execution_count": null,
      "outputs": []
    }
  ],
  "metadata": {
    "colab": {
      "collapsed_sections": [],
      "name": "Welcome To Colaboratory",
      "provenance": [],
      "include_colab_link": true
    },
    "kernelspec": {
      "display_name": "Python 3",
      "name": "python3"
    }
  },
  "nbformat": 4,
  "nbformat_minor": 0
}